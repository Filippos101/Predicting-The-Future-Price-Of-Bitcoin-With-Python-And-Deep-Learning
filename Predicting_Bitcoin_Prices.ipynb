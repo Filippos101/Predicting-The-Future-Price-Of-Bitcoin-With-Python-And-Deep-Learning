{
 "cells": [
  {
   "cell_type": "code",
   "execution_count": 1,
   "metadata": {},
   "outputs": [
    {
     "name": "stderr",
     "output_type": "stream",
     "text": [
      "Using TensorFlow backend.\n"
     ]
    }
   ],
   "source": [
    "import requests\n",
    "from keras.models import Sequential\n",
    "from keras.layers import Activation, Dense, Dropout, LSTM\n",
    "import matplotlib.pyplot as plt\n",
    "import numpy as np\n",
    "import pandas as pd\n",
    "from sklearn.metrics import mean_absolute_error\n",
    "%matplotlib inline\n"
   ]
  },
  {
   "cell_type": "code",
   "execution_count": 2,
   "metadata": {},
   "outputs": [],
   "source": [
    "data = pd.read_csv('/home/development-pc/Downloads/BTCUSD.csv', index_col = None)"
   ]
  },
  {
   "cell_type": "code",
   "execution_count": 3,
   "metadata": {},
   "outputs": [
    {
     "data": {
      "text/plain": [
       "Date          object\n",
       "Open         float64\n",
       "High         float64\n",
       "Low          float64\n",
       "Close        float64\n",
       "Adj Close    float64\n",
       "Volume         int64\n",
       "dtype: object"
      ]
     },
     "execution_count": 3,
     "metadata": {},
     "output_type": "execute_result"
    }
   ],
   "source": [
    "data.dtypes\n"
   ]
  },
  {
   "cell_type": "code",
   "execution_count": 4,
   "metadata": {},
   "outputs": [
    {
     "data": {
      "text/html": [
       "<div>\n",
       "<style scoped>\n",
       "    .dataframe tbody tr th:only-of-type {\n",
       "        vertical-align: middle;\n",
       "    }\n",
       "\n",
       "    .dataframe tbody tr th {\n",
       "        vertical-align: top;\n",
       "    }\n",
       "\n",
       "    .dataframe thead th {\n",
       "        text-align: right;\n",
       "    }\n",
       "</style>\n",
       "<table border=\"1\" class=\"dataframe\">\n",
       "  <thead>\n",
       "    <tr style=\"text-align: right;\">\n",
       "      <th></th>\n",
       "      <th>Date</th>\n",
       "      <th>Open</th>\n",
       "      <th>High</th>\n",
       "      <th>Low</th>\n",
       "      <th>Close</th>\n",
       "      <th>Adj Close</th>\n",
       "      <th>Volume</th>\n",
       "    </tr>\n",
       "  </thead>\n",
       "  <tbody>\n",
       "    <tr>\n",
       "      <th>0</th>\n",
       "      <td>2014-09-17</td>\n",
       "      <td>465.864014</td>\n",
       "      <td>468.174011</td>\n",
       "      <td>452.421997</td>\n",
       "      <td>457.334015</td>\n",
       "      <td>457.334015</td>\n",
       "      <td>21056800</td>\n",
       "    </tr>\n",
       "    <tr>\n",
       "      <th>1</th>\n",
       "      <td>2014-09-18</td>\n",
       "      <td>456.859985</td>\n",
       "      <td>456.859985</td>\n",
       "      <td>413.104004</td>\n",
       "      <td>424.440002</td>\n",
       "      <td>424.440002</td>\n",
       "      <td>34483200</td>\n",
       "    </tr>\n",
       "    <tr>\n",
       "      <th>2</th>\n",
       "      <td>2014-09-19</td>\n",
       "      <td>424.102997</td>\n",
       "      <td>427.834991</td>\n",
       "      <td>384.532013</td>\n",
       "      <td>394.795990</td>\n",
       "      <td>394.795990</td>\n",
       "      <td>37919700</td>\n",
       "    </tr>\n",
       "    <tr>\n",
       "      <th>3</th>\n",
       "      <td>2014-09-20</td>\n",
       "      <td>394.673004</td>\n",
       "      <td>423.295990</td>\n",
       "      <td>389.882996</td>\n",
       "      <td>408.903992</td>\n",
       "      <td>408.903992</td>\n",
       "      <td>36863600</td>\n",
       "    </tr>\n",
       "    <tr>\n",
       "      <th>4</th>\n",
       "      <td>2014-09-21</td>\n",
       "      <td>408.084991</td>\n",
       "      <td>412.425995</td>\n",
       "      <td>393.181000</td>\n",
       "      <td>398.821014</td>\n",
       "      <td>398.821014</td>\n",
       "      <td>26580100</td>\n",
       "    </tr>\n",
       "  </tbody>\n",
       "</table>\n",
       "</div>"
      ],
      "text/plain": [
       "         Date        Open        High         Low       Close   Adj Close  \\\n",
       "0  2014-09-17  465.864014  468.174011  452.421997  457.334015  457.334015   \n",
       "1  2014-09-18  456.859985  456.859985  413.104004  424.440002  424.440002   \n",
       "2  2014-09-19  424.102997  427.834991  384.532013  394.795990  394.795990   \n",
       "3  2014-09-20  394.673004  423.295990  389.882996  408.903992  408.903992   \n",
       "4  2014-09-21  408.084991  412.425995  393.181000  398.821014  398.821014   \n",
       "\n",
       "     Volume  \n",
       "0  21056800  \n",
       "1  34483200  \n",
       "2  37919700  \n",
       "3  36863600  \n",
       "4  26580100  "
      ]
     },
     "execution_count": 4,
     "metadata": {},
     "output_type": "execute_result"
    }
   ],
   "source": [
    "data.head()"
   ]
  },
  {
   "cell_type": "code",
   "execution_count": 5,
   "metadata": {},
   "outputs": [],
   "source": [
    "data = data.drop(['Open', 'High', 'Low', 'Adj Close', 'Volume'], axis = 1)\n",
    "price_column = 'Close'\n",
    "data = data.set_index('Date')\n",
    "data.index = pd.to_datetime(data.index)"
   ]
  },
  {
   "cell_type": "code",
   "execution_count": 6,
   "metadata": {},
   "outputs": [
    {
     "data": {
      "text/html": [
       "<div>\n",
       "<style scoped>\n",
       "    .dataframe tbody tr th:only-of-type {\n",
       "        vertical-align: middle;\n",
       "    }\n",
       "\n",
       "    .dataframe tbody tr th {\n",
       "        vertical-align: top;\n",
       "    }\n",
       "\n",
       "    .dataframe thead th {\n",
       "        text-align: right;\n",
       "    }\n",
       "</style>\n",
       "<table border=\"1\" class=\"dataframe\">\n",
       "  <thead>\n",
       "    <tr style=\"text-align: right;\">\n",
       "      <th></th>\n",
       "      <th>Close</th>\n",
       "    </tr>\n",
       "    <tr>\n",
       "      <th>Date</th>\n",
       "      <th></th>\n",
       "    </tr>\n",
       "  </thead>\n",
       "  <tbody>\n",
       "    <tr>\n",
       "      <th>2014-09-17</th>\n",
       "      <td>457.334015</td>\n",
       "    </tr>\n",
       "    <tr>\n",
       "      <th>2014-09-18</th>\n",
       "      <td>424.440002</td>\n",
       "    </tr>\n",
       "    <tr>\n",
       "      <th>2014-09-19</th>\n",
       "      <td>394.795990</td>\n",
       "    </tr>\n",
       "    <tr>\n",
       "      <th>2014-09-20</th>\n",
       "      <td>408.903992</td>\n",
       "    </tr>\n",
       "    <tr>\n",
       "      <th>2014-09-21</th>\n",
       "      <td>398.821014</td>\n",
       "    </tr>\n",
       "  </tbody>\n",
       "</table>\n",
       "</div>"
      ],
      "text/plain": [
       "                 Close\n",
       "Date                  \n",
       "2014-09-17  457.334015\n",
       "2014-09-18  424.440002\n",
       "2014-09-19  394.795990\n",
       "2014-09-20  408.903992\n",
       "2014-09-21  398.821014"
      ]
     },
     "execution_count": 6,
     "metadata": {},
     "output_type": "execute_result"
    }
   ],
   "source": [
    "data.head()"
   ]
  },
  {
   "cell_type": "code",
   "execution_count": 7,
   "metadata": {},
   "outputs": [],
   "source": [
    "def train_test_split(df, test_size=0.2):\n",
    "    split_row = len(df) - int(test_size * len(df))\n",
    "    train_data = df.iloc[:split_row]\n",
    "    test_data = df.iloc[split_row:]\n",
    "    return train_data, test_data\n",
    "train, test = train_test_split(data, test_size=0.2)"
   ]
  },
  {
   "cell_type": "code",
   "execution_count": 8,
   "metadata": {},
   "outputs": [
    {
     "data": {
      "image/png": "[encoded data removed]",
      "text/plain": [
       "<Figure size 936x504 with 1 Axes>"
      ]
     },
     "metadata": {
      "needs_background": "light"
     },
     "output_type": "display_data"
    }
   ],
   "source": [
    "def line_plot(line1, line2, label1=None, label2=None, title='', lw=2):\n",
    "    fig, ax = plt.subplots(1, figsize=(13, 7))\n",
    "    ax.plot(line1, label=label1, linewidth=lw)\n",
    "    ax.plot(line2, label=label2, linewidth=lw)\n",
    "    ax.set_ylabel('Price [USD]', fontsize=14)\n",
    "    ax.set_xlabel('Time', fontsize = 14)\n",
    "    ax.set_title(title, fontsize=16)\n",
    "    ax.legend(loc='best', fontsize=16)\n",
    "line_plot(train[price_column], test[price_column], 'Training Prices', 'Testing Prices', title='Project Outline')"
   ]
  },
  {
   "cell_type": "code",
   "execution_count": 9,
   "metadata": {},
   "outputs": [],
   "source": [
    "def normalise_zero_base(df):\n",
    "    return df / df.iloc[0] - 1\n",
    "\n",
    "def normalise_min_max(df):\n",
    "    return (df - df.min()) / (data.max() - df.min())"
   ]
  },
  {
   "cell_type": "code",
   "execution_count": 10,
   "metadata": {},
   "outputs": [],
   "source": [
    "def extract_window_data(df, window_len=5, zero_base=True):\n",
    "    window_data = []\n",
    "    for idx in range(len(df) - window_len):\n",
    "        tmp = df[idx: (idx + window_len)].copy()\n",
    "        if zero_base:\n",
    "            tmp = normalise_zero_base(tmp)\n",
    "        window_data.append(tmp.values)\n",
    "    return np.array(window_data)"
   ]
  },
  {
   "cell_type": "code",
   "execution_count": 11,
   "metadata": {},
   "outputs": [],
   "source": [
    "def prepare_data(df, price_column, window_len=10, zero_base=True, test_size=0.2):\n",
    "    train_data, test_data = train_test_split(df, test_size=test_size)\n",
    "    X_train = extract_window_data(train_data, window_len, zero_base)\n",
    "    X_test = extract_window_data(test_data, window_len, zero_base)\n",
    "    y_train = train_data[price_column][window_len:].values\n",
    "    y_test = test_data[price_column][window_len:].values\n",
    "    if zero_base:\n",
    "        y_train = y_train / train_data[price_column][:-window_len].values - 1\n",
    "        y_test = y_test / test_data[price_column][:-window_len].values - 1\n",
    "\n",
    "    return train_data, test_data, X_train, X_test, y_train, y_test"
   ]
  },
  {
   "cell_type": "code",
   "execution_count": 12,
   "metadata": {},
   "outputs": [],
   "source": [
    "def build_lstm_model(input_data, output_size, neurons=100, activ_func='linear', dropout=0.2, loss='mse', optimizer='adam'):\n",
    "    model = Sequential()\n",
    "    model.add(LSTM(neurons, input_shape=(input_data.shape[1], input_data.shape[2])))\n",
    "    model.add(Dropout(dropout))\n",
    "    model.add(Dense(units=output_size))\n",
    "    model.add(Activation(activ_func))\n",
    "    model.compile(loss=loss, optimizer=optimizer)\n",
    "    return model"
   ]
  },
  {
   "cell_type": "code",
   "execution_count": 13,
   "metadata": {},
   "outputs": [],
   "source": [
    "np.random.seed(42)\n",
    "window_len = 5\n",
    "test_size = 0.2\n",
    "zero_base = True\n",
    "lstm_neurons = 100\n",
    "epochs = 100\n",
    "batch_size = 32\n",
    "loss = 'mse'\n",
    "dropout = 0.2\n",
    "optimizer = 'adam'"
   ]
  },
  {
   "cell_type": "code",
   "execution_count": 14,
   "metadata": {},
   "outputs": [
    {
     "name": "stdout",
     "output_type": "stream",
     "text": [
      "Epoch 1/100\n",
      "1626/1626 [==============================] - 2s 1ms/step - loss: 0.0045\n",
      "Epoch 2/100\n",
      "1626/1626 [==============================] - 1s 498us/step - loss: 0.0029\n",
      "Epoch 3/100\n",
      "1626/1626 [==============================] - 0s 273us/step - loss: 0.0025\n",
      "Epoch 4/100\n",
      "1626/1626 [==============================] - 1s 513us/step - loss: 0.0021\n",
      "Epoch 5/100\n",
      "1626/1626 [==============================] - 1s 426us/step - loss: 0.0020\n",
      "Epoch 6/100\n",
      "1626/1626 [==============================] - 1s 525us/step - loss: 0.0018\n",
      "Epoch 7/100\n",
      "1626/1626 [==============================] - 1s 402us/step - loss: 0.0018\n",
      "Epoch 8/100\n",
      "1626/1626 [==============================] - 1s 464us/step - loss: 0.0017\n",
      "Epoch 9/100\n",
      "1626/1626 [==============================] - 1s 415us/step - loss: 0.0017\n",
      "Epoch 10/100\n",
      "1626/1626 [==============================] - 1s 628us/step - loss: 0.0016\n",
      "Epoch 11/100\n",
      "1626/1626 [==============================] - 1s 471us/step - loss: 0.0016\n",
      "Epoch 12/100\n",
      "1626/1626 [==============================] - 1s 341us/step - loss: 0.0016\n",
      "Epoch 13/100\n",
      "1626/1626 [==============================] - 1s 449us/step - loss: 0.0016\n",
      "Epoch 14/100\n",
      "1626/1626 [==============================] - 1s 634us/step - loss: 0.0016\n",
      "Epoch 15/100\n",
      "1626/1626 [==============================] - 1s 429us/step - loss: 0.0016\n",
      "Epoch 16/100\n",
      "1626/1626 [==============================] - 1s 378us/step - loss: 0.0016\n",
      "Epoch 17/100\n",
      "1626/1626 [==============================] - 1s 596us/step - loss: 0.0016\n",
      "Epoch 18/100\n",
      "1626/1626 [==============================] - 1s 481us/step - loss: 0.0016\n",
      "Epoch 19/100\n",
      "1626/1626 [==============================] - 1s 551us/step - loss: 0.0016\n",
      "Epoch 20/100\n",
      "1626/1626 [==============================] - 1s 599us/step - loss: 0.0016\n",
      "Epoch 21/100\n",
      "1626/1626 [==============================] - 1s 415us/step - loss: 0.0016\n",
      "Epoch 22/100\n",
      "1626/1626 [==============================] - 1s 460us/step - loss: 0.0016\n",
      "Epoch 23/100\n",
      "1626/1626 [==============================] - 1s 379us/step - loss: 0.0016\n",
      "Epoch 24/100\n",
      "1626/1626 [==============================] - 1s 459us/step - loss: 0.0016\n",
      "Epoch 25/100\n",
      "1626/1626 [==============================] - 1s 616us/step - loss: 0.0016\n",
      "Epoch 26/100\n",
      "1626/1626 [==============================] - 1s 451us/step - loss: 0.0016\n",
      "Epoch 27/100\n",
      "1626/1626 [==============================] - 1s 636us/step - loss: 0.0016\n",
      "Epoch 28/100\n",
      "1626/1626 [==============================] - 1s 574us/step - loss: 0.0016\n",
      "Epoch 29/100\n",
      "1626/1626 [==============================] - 1s 522us/step - loss: 0.0016\n",
      "Epoch 30/100\n",
      "1626/1626 [==============================] - 1s 438us/step - loss: 0.0016\n",
      "Epoch 31/100\n",
      "1626/1626 [==============================] - 1s 530us/step - loss: 0.0016\n",
      "Epoch 32/100\n",
      "1626/1626 [==============================] - 1s 558us/step - loss: 0.0016\n",
      "Epoch 33/100\n",
      "1626/1626 [==============================] - 1s 506us/step - loss: 0.0016\n",
      "Epoch 34/100\n",
      "1626/1626 [==============================] - 1s 566us/step - loss: 0.0016\n",
      "Epoch 35/100\n",
      "1626/1626 [==============================] - 1s 549us/step - loss: 0.0016\n",
      "Epoch 36/100\n",
      "1626/1626 [==============================] - 0s 269us/step - loss: 0.0016\n",
      "Epoch 37/100\n",
      "1626/1626 [==============================] - 0s 253us/step - loss: 0.0016\n",
      "Epoch 38/100\n",
      "1626/1626 [==============================] - 0s 240us/step - loss: 0.0016\n",
      "Epoch 39/100\n",
      "1626/1626 [==============================] - 1s 400us/step - loss: 0.0016\n",
      "Epoch 40/100\n",
      "1626/1626 [==============================] - 1s 564us/step - loss: 0.0016\n",
      "Epoch 41/100\n",
      "1626/1626 [==============================] - 1s 593us/step - loss: 0.0016\n",
      "Epoch 42/100\n",
      "1626/1626 [==============================] - 1s 608us/step - loss: 0.0016\n",
      "Epoch 43/100\n",
      "1626/1626 [==============================] - 1s 391us/step - loss: 0.0016\n",
      "Epoch 44/100\n",
      "1626/1626 [==============================] - 1s 596us/step - loss: 0.0016\n",
      "Epoch 45/100\n",
      "1626/1626 [==============================] - 1s 610us/step - loss: 0.0016\n",
      "Epoch 46/100\n",
      "1626/1626 [==============================] - 1s 641us/step - loss: 0.0016\n",
      "Epoch 47/100\n",
      "1626/1626 [==============================] - 0s 296us/step - loss: 0.0016\n",
      "Epoch 48/100\n",
      "1626/1626 [==============================] - 0s 239us/step - loss: 0.0016\n",
      "Epoch 49/100\n",
      "1626/1626 [==============================] - 1s 419us/step - loss: 0.0016\n",
      "Epoch 50/100\n",
      "1626/1626 [==============================] - 1s 326us/step - loss: 0.0016\n",
      "Epoch 51/100\n",
      "1626/1626 [==============================] - 1s 327us/step - loss: 0.0016\n",
      "Epoch 52/100\n",
      "1626/1626 [==============================] - 1s 656us/step - loss: 0.0016\n",
      "Epoch 53/100\n",
      "1626/1626 [==============================] - 1s 527us/step - loss: 0.0016\n",
      "Epoch 54/100\n",
      "1626/1626 [==============================] - 1s 474us/step - loss: 0.0016\n",
      "Epoch 55/100\n",
      "1626/1626 [==============================] - 1s 400us/step - loss: 0.0016\n",
      "Epoch 56/100\n",
      "1626/1626 [==============================] - 1s 308us/step - loss: 0.0016\n",
      "Epoch 57/100\n",
      "1626/1626 [==============================] - 1s 366us/step - loss: 0.0016\n",
      "Epoch 58/100\n",
      "1626/1626 [==============================] - 0s 277us/step - loss: 0.0016\n",
      "Epoch 59/100\n",
      "1626/1626 [==============================] - 0s 284us/step - loss: 0.0016\n",
      "Epoch 60/100\n",
      "1626/1626 [==============================] - 1s 582us/step - loss: 0.0016\n",
      "Epoch 61/100\n",
      "1626/1626 [==============================] - 0s 295us/step - loss: 0.0016\n",
      "Epoch 62/100\n",
      "1626/1626 [==============================] - 1s 440us/step - loss: 0.0016\n",
      "Epoch 63/100\n",
      "1626/1626 [==============================] - 0s 286us/step - loss: 0.0016\n",
      "Epoch 64/100\n",
      "1626/1626 [==============================] - 1s 503us/step - loss: 0.0016\n",
      "Epoch 65/100\n",
      "1626/1626 [==============================] - 1s 314us/step - loss: 0.0016\n",
      "Epoch 66/100\n",
      "1626/1626 [==============================] - 1s 389us/step - loss: 0.0016\n",
      "Epoch 67/100\n",
      "1626/1626 [==============================] - 1s 510us/step - loss: 0.0016\n",
      "Epoch 68/100\n",
      "1626/1626 [==============================] - 1s 428us/step - loss: 0.0016\n",
      "Epoch 69/100\n",
      "1626/1626 [==============================] - 0s 279us/step - loss: 0.0016\n",
      "Epoch 70/100\n",
      "1626/1626 [==============================] - 0s 289us/step - loss: 0.0016\n",
      "Epoch 71/100\n",
      "1626/1626 [==============================] - 0s 284us/step - loss: 0.0016\n",
      "Epoch 72/100\n",
      "1626/1626 [==============================] - 0s 269us/step - loss: 0.0016\n",
      "Epoch 73/100\n",
      "1626/1626 [==============================] - 0s 269us/step - loss: 0.0016\n",
      "Epoch 74/100\n",
      "1626/1626 [==============================] - 1s 360us/step - loss: 0.0016\n",
      "Epoch 75/100\n",
      "1626/1626 [==============================] - 1s 510us/step - loss: 0.0016\n",
      "Epoch 76/100\n",
      "1626/1626 [==============================] - 1s 610us/step - loss: 0.0016\n",
      "Epoch 77/100\n",
      "1626/1626 [==============================] - 1s 355us/step - loss: 0.0016\n",
      "Epoch 78/100\n",
      "1626/1626 [==============================] - 1s 312us/step - loss: 0.0016\n",
      "Epoch 79/100\n",
      "1626/1626 [==============================] - 1s 312us/step - loss: 0.0016\n",
      "Epoch 80/100\n",
      "1626/1626 [==============================] - 1s 395us/step - loss: 0.0016\n",
      "Epoch 81/100\n",
      "1626/1626 [==============================] - 1s 315us/step - loss: 0.0016\n",
      "Epoch 82/100\n",
      "1626/1626 [==============================] - 1s 547us/step - loss: 0.0016\n",
      "Epoch 83/100\n",
      "1626/1626 [==============================] - 1s 440us/step - loss: 0.0016\n",
      "Epoch 84/100\n",
      "1626/1626 [==============================] - 1s 494us/step - loss: 0.0016\n",
      "Epoch 85/100\n",
      "1626/1626 [==============================] - 1s 438us/step - loss: 0.0016\n",
      "Epoch 86/100\n",
      "1626/1626 [==============================] - 0s 294us/step - loss: 0.0016\n",
      "Epoch 87/100\n",
      "1626/1626 [==============================] - 1s 340us/step - loss: 0.0016\n",
      "Epoch 88/100\n",
      "1626/1626 [==============================] - 0s 278us/step - loss: 0.0016\n",
      "Epoch 89/100\n",
      "1626/1626 [==============================] - 1s 422us/step - loss: 0.0016\n",
      "Epoch 90/100\n",
      "1626/1626 [==============================] - 1s 400us/step - loss: 0.0016\n",
      "Epoch 91/100\n",
      "1626/1626 [==============================] - 1s 330us/step - loss: 0.0016\n",
      "Epoch 92/100\n",
      "1626/1626 [==============================] - 1s 380us/step - loss: 0.0016\n",
      "Epoch 93/100\n",
      "1626/1626 [==============================] - 1s 445us/step - loss: 0.0016\n",
      "Epoch 94/100\n",
      "1626/1626 [==============================] - 1s 465us/step - loss: 0.0016\n",
      "Epoch 95/100\n",
      "1626/1626 [==============================] - 1s 346us/step - loss: 0.0016\n",
      "Epoch 96/100\n",
      "1626/1626 [==============================] - 1s 391us/step - loss: 0.0016\n",
      "Epoch 97/100\n",
      "1626/1626 [==============================] - 1s 605us/step - loss: 0.0016\n",
      "Epoch 98/100\n",
      "1626/1626 [==============================] - 1s 479us/step - loss: 0.0016\n",
      "Epoch 99/100\n",
      "1626/1626 [==============================] - 1s 527us/step - loss: 0.0016\n",
      "Epoch 100/100\n",
      "1626/1626 [==============================] - 1s 386us/step - loss: 0.0016\n"
     ]
    }
   ],
   "source": [
    "train, test, X_train, X_test, y_train, y_test = prepare_data(\n",
    "    data, price_column, window_len=window_len, zero_base=zero_base, test_size=test_size)\n",
    "model = build_lstm_model(\n",
    "    X_train, output_size=1, neurons=lstm_neurons, dropout=dropout, loss=loss,\n",
    "    optimizer=optimizer)\n",
    "history = model.fit(\n",
    "    X_train, y_train, epochs=epochs, batch_size=batch_size, verbose=1, shuffle=True)"
   ]
  },
  {
   "cell_type": "code",
   "execution_count": 15,
   "metadata": {},
   "outputs": [
    {
     "data": {
      "text/plain": [
       "0.026598235601862672"
      ]
     },
     "execution_count": 15,
     "metadata": {},
     "output_type": "execute_result"
    }
   ],
   "source": [
    "targets = test[price_column][window_len:]\n",
    "preds = model.predict(X_test).squeeze()\n",
    "mean_absolute_error(preds, y_test)"
   ]
  },
  {
   "cell_type": "code",
   "execution_count": 16,
   "metadata": {},
   "outputs": [
    {
     "data": {
      "image/png": "[encoded data removed]",
      "text/plain": [
       "<Figure size 936x504 with 1 Axes>"
      ]
     },
     "metadata": {
      "needs_background": "light"
     },
     "output_type": "display_data"
    }
   ],
   "source": [
    "preds = test[price_column].values[:-window_len] * (preds + 1)\n",
    "preds = pd.Series(index=targets.index, data=preds)\n",
    "line_plot(targets, preds, 'actual_value', 'predicted_value', lw=3)"
   ]
  },
  {
   "cell_type": "code",
   "execution_count": null,
   "metadata": {},
   "outputs": [],
   "source": []
  }
 ],
 "metadata": {
  "kernelspec": {
   "display_name": "Python 3",
   "language": "python",
   "name": "python3"
  },
  "language_info": {
   "codemirror_mode": {
    "name": "ipython",
    "version": 3
   },
   "file_extension": ".py",
   "mimetype": "text/x-python",
   "name": "python",
   "nbconvert_exporter": "python",
   "pygments_lexer": "ipython3",
   "version": "3.7.6"
  }
 },
 "nbformat": 4,
 "nbformat_minor": 4
}
